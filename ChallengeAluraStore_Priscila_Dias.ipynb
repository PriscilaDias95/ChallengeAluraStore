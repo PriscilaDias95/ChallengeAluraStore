{
  "nbformat": 4,
  "nbformat_minor": 0,
  "metadata": {
    "colab": {
      "provenance": [],
      "toc_visible": true
    },
    "kernelspec": {
      "name": "python3",
      "display_name": "Python 3"
    },
    "language_info": {
      "name": "python"
    }
  },
  "cells": [
    {
      "cell_type": "markdown",
      "source": [
        "### Importação dos dados\n",
        "\n"
      ],
      "metadata": {
        "id": "RhEdWd9YUR6H"
      }
    },
    {
      "cell_type": "code",
      "execution_count": 73,
      "metadata": {
        "colab": {
          "base_uri": "https://localhost:8080/",
          "height": 206
        },
        "id": "T3EvaeQ_INIL",
        "outputId": "97647a56-7db1-46a0-870d-c2e2b0d9b4db"
      },
      "outputs": [
        {
          "output_type": "execute_result",
          "data": {
            "text/plain": [
              "              Produto   Categoria do Produto    Preço      Frete  \\\n",
              "0  Secadora de roupas       eletrodomesticos  1713.50  88.823159   \n",
              "1              Cômoda                 moveis   386.81  18.180908   \n",
              "2              Violão  instrumentos musicais   404.62  23.197592   \n",
              "3       Bola de vôlei        esporte e lazer    78.40   4.463341   \n",
              "4       Guarda roupas                 moveis   694.76  34.578319   \n",
              "\n",
              "  Data da Compra        Vendedor Local da compra  Avaliação da compra  \\\n",
              "0     17/12/2021  Camila Ribeiro              CE                    4   \n",
              "1     10/02/2021   Larissa Alves              RS                    3   \n",
              "2     22/01/2023  Lucas Oliveira              SP                    5   \n",
              "3     22/03/2022     Pedro Gomes              BA                    4   \n",
              "4     12/01/2022   Bianca Santos              SP                    1   \n",
              "\n",
              "  Tipo de pagamento  Quantidade de parcelas    lat    lon  \n",
              "0    cartao_credito                       4  -5.20 -39.53  \n",
              "1    cartao_credito                       1 -30.17 -53.50  \n",
              "2    cartao_credito                       3 -22.19 -48.79  \n",
              "3    cartao_credito                       6 -13.29 -41.71  \n",
              "4    cartao_credito                       1 -22.19 -48.79  "
            ],
            "text/html": [
              "\n",
              "  <div id=\"df-82bcb080-bcbc-4b2a-a875-af76727e3fba\" class=\"colab-df-container\">\n",
              "    <div>\n",
              "<style scoped>\n",
              "    .dataframe tbody tr th:only-of-type {\n",
              "        vertical-align: middle;\n",
              "    }\n",
              "\n",
              "    .dataframe tbody tr th {\n",
              "        vertical-align: top;\n",
              "    }\n",
              "\n",
              "    .dataframe thead th {\n",
              "        text-align: right;\n",
              "    }\n",
              "</style>\n",
              "<table border=\"1\" class=\"dataframe\">\n",
              "  <thead>\n",
              "    <tr style=\"text-align: right;\">\n",
              "      <th></th>\n",
              "      <th>Produto</th>\n",
              "      <th>Categoria do Produto</th>\n",
              "      <th>Preço</th>\n",
              "      <th>Frete</th>\n",
              "      <th>Data da Compra</th>\n",
              "      <th>Vendedor</th>\n",
              "      <th>Local da compra</th>\n",
              "      <th>Avaliação da compra</th>\n",
              "      <th>Tipo de pagamento</th>\n",
              "      <th>Quantidade de parcelas</th>\n",
              "      <th>lat</th>\n",
              "      <th>lon</th>\n",
              "    </tr>\n",
              "  </thead>\n",
              "  <tbody>\n",
              "    <tr>\n",
              "      <th>0</th>\n",
              "      <td>Secadora de roupas</td>\n",
              "      <td>eletrodomesticos</td>\n",
              "      <td>1713.50</td>\n",
              "      <td>88.823159</td>\n",
              "      <td>17/12/2021</td>\n",
              "      <td>Camila Ribeiro</td>\n",
              "      <td>CE</td>\n",
              "      <td>4</td>\n",
              "      <td>cartao_credito</td>\n",
              "      <td>4</td>\n",
              "      <td>-5.20</td>\n",
              "      <td>-39.53</td>\n",
              "    </tr>\n",
              "    <tr>\n",
              "      <th>1</th>\n",
              "      <td>Cômoda</td>\n",
              "      <td>moveis</td>\n",
              "      <td>386.81</td>\n",
              "      <td>18.180908</td>\n",
              "      <td>10/02/2021</td>\n",
              "      <td>Larissa Alves</td>\n",
              "      <td>RS</td>\n",
              "      <td>3</td>\n",
              "      <td>cartao_credito</td>\n",
              "      <td>1</td>\n",
              "      <td>-30.17</td>\n",
              "      <td>-53.50</td>\n",
              "    </tr>\n",
              "    <tr>\n",
              "      <th>2</th>\n",
              "      <td>Violão</td>\n",
              "      <td>instrumentos musicais</td>\n",
              "      <td>404.62</td>\n",
              "      <td>23.197592</td>\n",
              "      <td>22/01/2023</td>\n",
              "      <td>Lucas Oliveira</td>\n",
              "      <td>SP</td>\n",
              "      <td>5</td>\n",
              "      <td>cartao_credito</td>\n",
              "      <td>3</td>\n",
              "      <td>-22.19</td>\n",
              "      <td>-48.79</td>\n",
              "    </tr>\n",
              "    <tr>\n",
              "      <th>3</th>\n",
              "      <td>Bola de vôlei</td>\n",
              "      <td>esporte e lazer</td>\n",
              "      <td>78.40</td>\n",
              "      <td>4.463341</td>\n",
              "      <td>22/03/2022</td>\n",
              "      <td>Pedro Gomes</td>\n",
              "      <td>BA</td>\n",
              "      <td>4</td>\n",
              "      <td>cartao_credito</td>\n",
              "      <td>6</td>\n",
              "      <td>-13.29</td>\n",
              "      <td>-41.71</td>\n",
              "    </tr>\n",
              "    <tr>\n",
              "      <th>4</th>\n",
              "      <td>Guarda roupas</td>\n",
              "      <td>moveis</td>\n",
              "      <td>694.76</td>\n",
              "      <td>34.578319</td>\n",
              "      <td>12/01/2022</td>\n",
              "      <td>Bianca Santos</td>\n",
              "      <td>SP</td>\n",
              "      <td>1</td>\n",
              "      <td>cartao_credito</td>\n",
              "      <td>1</td>\n",
              "      <td>-22.19</td>\n",
              "      <td>-48.79</td>\n",
              "    </tr>\n",
              "  </tbody>\n",
              "</table>\n",
              "</div>\n",
              "    <div class=\"colab-df-buttons\">\n",
              "\n",
              "  <div class=\"colab-df-container\">\n",
              "    <button class=\"colab-df-convert\" onclick=\"convertToInteractive('df-82bcb080-bcbc-4b2a-a875-af76727e3fba')\"\n",
              "            title=\"Convert this dataframe to an interactive table.\"\n",
              "            style=\"display:none;\">\n",
              "\n",
              "  <svg xmlns=\"http://www.w3.org/2000/svg\" height=\"24px\" viewBox=\"0 -960 960 960\">\n",
              "    <path d=\"M120-120v-720h720v720H120Zm60-500h600v-160H180v160Zm220 220h160v-160H400v160Zm0 220h160v-160H400v160ZM180-400h160v-160H180v160Zm440 0h160v-160H620v160ZM180-180h160v-160H180v160Zm440 0h160v-160H620v160Z\"/>\n",
              "  </svg>\n",
              "    </button>\n",
              "\n",
              "  <style>\n",
              "    .colab-df-container {\n",
              "      display:flex;\n",
              "      gap: 12px;\n",
              "    }\n",
              "\n",
              "    .colab-df-convert {\n",
              "      background-color: #E8F0FE;\n",
              "      border: none;\n",
              "      border-radius: 50%;\n",
              "      cursor: pointer;\n",
              "      display: none;\n",
              "      fill: #1967D2;\n",
              "      height: 32px;\n",
              "      padding: 0 0 0 0;\n",
              "      width: 32px;\n",
              "    }\n",
              "\n",
              "    .colab-df-convert:hover {\n",
              "      background-color: #E2EBFA;\n",
              "      box-shadow: 0px 1px 2px rgba(60, 64, 67, 0.3), 0px 1px 3px 1px rgba(60, 64, 67, 0.15);\n",
              "      fill: #174EA6;\n",
              "    }\n",
              "\n",
              "    .colab-df-buttons div {\n",
              "      margin-bottom: 4px;\n",
              "    }\n",
              "\n",
              "    [theme=dark] .colab-df-convert {\n",
              "      background-color: #3B4455;\n",
              "      fill: #D2E3FC;\n",
              "    }\n",
              "\n",
              "    [theme=dark] .colab-df-convert:hover {\n",
              "      background-color: #434B5C;\n",
              "      box-shadow: 0px 1px 3px 1px rgba(0, 0, 0, 0.15);\n",
              "      filter: drop-shadow(0px 1px 2px rgba(0, 0, 0, 0.3));\n",
              "      fill: #FFFFFF;\n",
              "    }\n",
              "  </style>\n",
              "\n",
              "    <script>\n",
              "      const buttonEl =\n",
              "        document.querySelector('#df-82bcb080-bcbc-4b2a-a875-af76727e3fba button.colab-df-convert');\n",
              "      buttonEl.style.display =\n",
              "        google.colab.kernel.accessAllowed ? 'block' : 'none';\n",
              "\n",
              "      async function convertToInteractive(key) {\n",
              "        const element = document.querySelector('#df-82bcb080-bcbc-4b2a-a875-af76727e3fba');\n",
              "        const dataTable =\n",
              "          await google.colab.kernel.invokeFunction('convertToInteractive',\n",
              "                                                    [key], {});\n",
              "        if (!dataTable) return;\n",
              "\n",
              "        const docLinkHtml = 'Like what you see? Visit the ' +\n",
              "          '<a target=\"_blank\" href=https://colab.research.google.com/notebooks/data_table.ipynb>data table notebook</a>'\n",
              "          + ' to learn more about interactive tables.';\n",
              "        element.innerHTML = '';\n",
              "        dataTable['output_type'] = 'display_data';\n",
              "        await google.colab.output.renderOutput(dataTable, element);\n",
              "        const docLink = document.createElement('div');\n",
              "        docLink.innerHTML = docLinkHtml;\n",
              "        element.appendChild(docLink);\n",
              "      }\n",
              "    </script>\n",
              "  </div>\n",
              "\n",
              "\n",
              "    <div id=\"df-bd43592c-8473-4ed5-bf67-61a97b89064c\">\n",
              "      <button class=\"colab-df-quickchart\" onclick=\"quickchart('df-bd43592c-8473-4ed5-bf67-61a97b89064c')\"\n",
              "                title=\"Suggest charts\"\n",
              "                style=\"display:none;\">\n",
              "\n",
              "<svg xmlns=\"http://www.w3.org/2000/svg\" height=\"24px\"viewBox=\"0 0 24 24\"\n",
              "     width=\"24px\">\n",
              "    <g>\n",
              "        <path d=\"M19 3H5c-1.1 0-2 .9-2 2v14c0 1.1.9 2 2 2h14c1.1 0 2-.9 2-2V5c0-1.1-.9-2-2-2zM9 17H7v-7h2v7zm4 0h-2V7h2v10zm4 0h-2v-4h2v4z\"/>\n",
              "    </g>\n",
              "</svg>\n",
              "      </button>\n",
              "\n",
              "<style>\n",
              "  .colab-df-quickchart {\n",
              "      --bg-color: #E8F0FE;\n",
              "      --fill-color: #1967D2;\n",
              "      --hover-bg-color: #E2EBFA;\n",
              "      --hover-fill-color: #174EA6;\n",
              "      --disabled-fill-color: #AAA;\n",
              "      --disabled-bg-color: #DDD;\n",
              "  }\n",
              "\n",
              "  [theme=dark] .colab-df-quickchart {\n",
              "      --bg-color: #3B4455;\n",
              "      --fill-color: #D2E3FC;\n",
              "      --hover-bg-color: #434B5C;\n",
              "      --hover-fill-color: #FFFFFF;\n",
              "      --disabled-bg-color: #3B4455;\n",
              "      --disabled-fill-color: #666;\n",
              "  }\n",
              "\n",
              "  .colab-df-quickchart {\n",
              "    background-color: var(--bg-color);\n",
              "    border: none;\n",
              "    border-radius: 50%;\n",
              "    cursor: pointer;\n",
              "    display: none;\n",
              "    fill: var(--fill-color);\n",
              "    height: 32px;\n",
              "    padding: 0;\n",
              "    width: 32px;\n",
              "  }\n",
              "\n",
              "  .colab-df-quickchart:hover {\n",
              "    background-color: var(--hover-bg-color);\n",
              "    box-shadow: 0 1px 2px rgba(60, 64, 67, 0.3), 0 1px 3px 1px rgba(60, 64, 67, 0.15);\n",
              "    fill: var(--button-hover-fill-color);\n",
              "  }\n",
              "\n",
              "  .colab-df-quickchart-complete:disabled,\n",
              "  .colab-df-quickchart-complete:disabled:hover {\n",
              "    background-color: var(--disabled-bg-color);\n",
              "    fill: var(--disabled-fill-color);\n",
              "    box-shadow: none;\n",
              "  }\n",
              "\n",
              "  .colab-df-spinner {\n",
              "    border: 2px solid var(--fill-color);\n",
              "    border-color: transparent;\n",
              "    border-bottom-color: var(--fill-color);\n",
              "    animation:\n",
              "      spin 1s steps(1) infinite;\n",
              "  }\n",
              "\n",
              "  @keyframes spin {\n",
              "    0% {\n",
              "      border-color: transparent;\n",
              "      border-bottom-color: var(--fill-color);\n",
              "      border-left-color: var(--fill-color);\n",
              "    }\n",
              "    20% {\n",
              "      border-color: transparent;\n",
              "      border-left-color: var(--fill-color);\n",
              "      border-top-color: var(--fill-color);\n",
              "    }\n",
              "    30% {\n",
              "      border-color: transparent;\n",
              "      border-left-color: var(--fill-color);\n",
              "      border-top-color: var(--fill-color);\n",
              "      border-right-color: var(--fill-color);\n",
              "    }\n",
              "    40% {\n",
              "      border-color: transparent;\n",
              "      border-right-color: var(--fill-color);\n",
              "      border-top-color: var(--fill-color);\n",
              "    }\n",
              "    60% {\n",
              "      border-color: transparent;\n",
              "      border-right-color: var(--fill-color);\n",
              "    }\n",
              "    80% {\n",
              "      border-color: transparent;\n",
              "      border-right-color: var(--fill-color);\n",
              "      border-bottom-color: var(--fill-color);\n",
              "    }\n",
              "    90% {\n",
              "      border-color: transparent;\n",
              "      border-bottom-color: var(--fill-color);\n",
              "    }\n",
              "  }\n",
              "</style>\n",
              "\n",
              "      <script>\n",
              "        async function quickchart(key) {\n",
              "          const quickchartButtonEl =\n",
              "            document.querySelector('#' + key + ' button');\n",
              "          quickchartButtonEl.disabled = true;  // To prevent multiple clicks.\n",
              "          quickchartButtonEl.classList.add('colab-df-spinner');\n",
              "          try {\n",
              "            const charts = await google.colab.kernel.invokeFunction(\n",
              "                'suggestCharts', [key], {});\n",
              "          } catch (error) {\n",
              "            console.error('Error during call to suggestCharts:', error);\n",
              "          }\n",
              "          quickchartButtonEl.classList.remove('colab-df-spinner');\n",
              "          quickchartButtonEl.classList.add('colab-df-quickchart-complete');\n",
              "        }\n",
              "        (() => {\n",
              "          let quickchartButtonEl =\n",
              "            document.querySelector('#df-bd43592c-8473-4ed5-bf67-61a97b89064c button');\n",
              "          quickchartButtonEl.style.display =\n",
              "            google.colab.kernel.accessAllowed ? 'block' : 'none';\n",
              "        })();\n",
              "      </script>\n",
              "    </div>\n",
              "\n",
              "    </div>\n",
              "  </div>\n"
            ],
            "application/vnd.google.colaboratory.intrinsic+json": {
              "type": "dataframe",
              "variable_name": "loja3",
              "summary": "{\n  \"name\": \"loja3\",\n  \"rows\": 2359,\n  \"fields\": [\n    {\n      \"column\": \"Produto\",\n      \"properties\": {\n        \"dtype\": \"category\",\n        \"num_unique_values\": 51,\n        \"samples\": [\n          \"Sof\\u00e1 retr\\u00e1til\",\n          \"Jogo de tabuleiro\",\n          \"Copo t\\u00e9rmico\"\n        ],\n        \"semantic_type\": \"\",\n        \"description\": \"\"\n      }\n    },\n    {\n      \"column\": \"Categoria do Produto\",\n      \"properties\": {\n        \"dtype\": \"category\",\n        \"num_unique_values\": 8,\n        \"samples\": [\n          \"moveis\",\n          \"brinquedos\",\n          \"eletrodomesticos\"\n        ],\n        \"semantic_type\": \"\",\n        \"description\": \"\"\n      }\n    },\n    {\n      \"column\": \"Pre\\u00e7o\",\n      \"properties\": {\n        \"dtype\": \"number\",\n        \"std\": 774.1916909262811,\n        \"min\": 10.08,\n        \"max\": 3957.62,\n        \"num_unique_values\": 2336,\n        \"samples\": [\n          28.03,\n          52.73,\n          781.7\n        ],\n        \"semantic_type\": \"\",\n        \"description\": \"\"\n      }\n    },\n    {\n      \"column\": \"Frete\",\n      \"properties\": {\n        \"dtype\": \"number\",\n        \"std\": 41.26051552773612,\n        \"min\": 0.0,\n        \"max\": 211.2576238709,\n        \"num_unique_values\": 2150,\n        \"samples\": [\n          49.023695298,\n          96.9569529583,\n          6.8041556613\n        ],\n        \"semantic_type\": \"\",\n        \"description\": \"\"\n      }\n    },\n    {\n      \"column\": \"Data da Compra\",\n      \"properties\": {\n        \"dtype\": \"object\",\n        \"num_unique_values\": 1024,\n        \"samples\": [\n          \"04/06/2020\",\n          \"28/03/2023\",\n          \"29/05/2022\"\n        ],\n        \"semantic_type\": \"\",\n        \"description\": \"\"\n      }\n    },\n    {\n      \"column\": \"Vendedor\",\n      \"properties\": {\n        \"dtype\": \"category\",\n        \"num_unique_values\": 14,\n        \"samples\": [\n          \"Beatriz Moraes\",\n          \"Rafael Costa\",\n          \"Camila Ribeiro\"\n        ],\n        \"semantic_type\": \"\",\n        \"description\": \"\"\n      }\n    },\n    {\n      \"column\": \"Local da compra\",\n      \"properties\": {\n        \"dtype\": \"category\",\n        \"num_unique_values\": 27,\n        \"samples\": [\n          \"PE\",\n          \"PR\",\n          \"DF\"\n        ],\n        \"semantic_type\": \"\",\n        \"description\": \"\"\n      }\n    },\n    {\n      \"column\": \"Avalia\\u00e7\\u00e3o da compra\",\n      \"properties\": {\n        \"dtype\": \"number\",\n        \"std\": 1,\n        \"min\": 1,\n        \"max\": 5,\n        \"num_unique_values\": 5,\n        \"samples\": [\n          3,\n          2,\n          5\n        ],\n        \"semantic_type\": \"\",\n        \"description\": \"\"\n      }\n    },\n    {\n      \"column\": \"Tipo de pagamento\",\n      \"properties\": {\n        \"dtype\": \"category\",\n        \"num_unique_values\": 4,\n        \"samples\": [\n          \"boleto\",\n          \"cartao_debito\",\n          \"cartao_credito\"\n        ],\n        \"semantic_type\": \"\",\n        \"description\": \"\"\n      }\n    },\n    {\n      \"column\": \"Quantidade de parcelas\",\n      \"properties\": {\n        \"dtype\": \"number\",\n        \"std\": 2,\n        \"min\": 1,\n        \"max\": 24,\n        \"num_unique_values\": 17,\n        \"samples\": [\n          4,\n          1,\n          2\n        ],\n        \"semantic_type\": \"\",\n        \"description\": \"\"\n      }\n    },\n    {\n      \"column\": \"lat\",\n      \"properties\": {\n        \"dtype\": \"number\",\n        \"std\": 5.465572145921901,\n        \"min\": -30.17,\n        \"max\": 1.99,\n        \"num_unique_values\": 27,\n        \"samples\": [\n          -8.38,\n          -24.89,\n          -15.83\n        ],\n        \"semantic_type\": \"\",\n        \"description\": \"\"\n      }\n    },\n    {\n      \"column\": \"lon\",\n      \"properties\": {\n        \"dtype\": \"number\",\n        \"std\": 4.197520488221453,\n        \"min\": -70.55,\n        \"max\": -36.59,\n        \"num_unique_values\": 27,\n        \"samples\": [\n          -37.86,\n          -51.55,\n          -47.86\n        ],\n        \"semantic_type\": \"\",\n        \"description\": \"\"\n      }\n    }\n  ]\n}"
            }
          },
          "metadata": {},
          "execution_count": 73
        }
      ],
      "source": [
        "import pandas as pd\n",
        "\n",
        "url = \"https://raw.githubusercontent.com/alura-es-cursos/challenge1-data-science/refs/heads/main/base-de-dados-challenge-1/loja_1.csv\"\n",
        "url2 = \"https://raw.githubusercontent.com/alura-es-cursos/challenge1-data-science/refs/heads/main/base-de-dados-challenge-1/loja_2.csv\"\n",
        "url3 = \"https://raw.githubusercontent.com/alura-es-cursos/challenge1-data-science/refs/heads/main/base-de-dados-challenge-1/loja_3.csv\"\n",
        "url4 = \"https://raw.githubusercontent.com/alura-es-cursos/challenge1-data-science/refs/heads/main/base-de-dados-challenge-1/loja_4.csv\"\n",
        "\n",
        "loja = pd.read_csv(url)\n",
        "loja2 = pd.read_csv(url2)\n",
        "loja3 = pd.read_csv(url3)\n",
        "loja4 = pd.read_csv(url4)\n",
        "\n",
        "#mostra as 5 primeiras linhas de cada DataFrame (loja, loja1, loja12, loja3)\n",
        "loja3.head()"
      ]
    },
    {
      "cell_type": "markdown",
      "source": [
        "#1. Análise do Faturamento\n"
      ],
      "metadata": {
        "id": "X62IW3KFUIYm"
      }
    },
    {
      "cell_type": "code",
      "source": [
        "def analisar_faturamento(loja, nome_loja):\n",
        "  faturamento = loja['Preço'].sum()\n",
        "  print(f'Faturamento Total da {nome_loja}: {faturamento}')\n",
        "  return faturamento\n",
        "\n",
        "faturamento_loja1 = analisar_faturamento(loja, 'Loja 1')\n",
        "faturamento_loja2 = analisar_faturamento(loja2, 'Loja 2')\n",
        "faturamento_loja3 = analisar_faturamento(loja3, 'Loja 3')\n",
        "faturamento_loja4 = analisar_faturamento(loja4, 'Loja 4')\n",
        "\n"
      ],
      "metadata": {
        "id": "xykobSftV64I",
        "colab": {
          "base_uri": "https://localhost:8080/"
        },
        "outputId": "2a82d784-d6e4-4ccb-b9a9-8ef2fd531e9d"
      },
      "execution_count": 74,
      "outputs": [
        {
          "output_type": "stream",
          "name": "stdout",
          "text": [
            "Faturamento Total da Loja 1: 1534509.12\n",
            "Faturamento Total da Loja 2: 1488459.06\n",
            "Faturamento Total da Loja 3: 1464025.03\n",
            "Faturamento Total da Loja 4: 1384497.58\n"
          ]
        }
      ]
    },
    {
      "cell_type": "code",
      "source": [
        "import matplotlib.pyplot as plt\n",
        "\n",
        "def gerar_grafico_faturamento_total(lojas_dados):\n",
        "    nomes_lojas = []\n",
        "    valores_faturamento = []\n",
        "\n",
        "    for loja, nome_loja in lojas_dados:\n",
        "        nomes_lojas.append(nome_loja)\n",
        "        valores_faturamento.append(loja['Preço'].sum())\n",
        "\n",
        "    plt.figure(figsize=(8, 4))\n",
        "    plt.bar(nomes_lojas, valores_faturamento, color=plt.cm.Pastel1.colors)\n",
        "\n",
        "    plt.title('FATURAMENTO TOTAL DE CADA LOJA', fontsize=12)\n",
        "    plt.xlabel('Lojas', fontsize=10)\n",
        "    plt.ylabel('Faturamento', fontsize=10)\n",
        "    plt.xticks(rotation=0)\n",
        "    plt.tight_layout()\n",
        "    plt.savefig('faturamento_total_loja.png', dpi=300, bbox_inches='tight')\n",
        "\n",
        "    plt.show()\n",
        "\n",
        "\n",
        "lojas = [(loja, 'Loja 1'), (loja2, 'Loja 2'), (loja3, 'Loja 3'), (loja4, 'Loja 4')]\n",
        "gerar_grafico_faturamento_total(lojas)\n"
      ],
      "metadata": {
        "colab": {
          "base_uri": "https://localhost:8080/",
          "height": 407
        },
        "id": "df5j0WKBfJF_",
        "outputId": "de92e1f5-63d3-4c32-97d5-c08cb001228d"
      },
      "execution_count": 75,
      "outputs": [
        {
          "output_type": "display_data",
          "data": {
            "text/plain": [
              "<Figure size 800x400 with 1 Axes>"
            ],
            "image/png": "[encoded data removed]"
          },
          "metadata": {}
        }
      ]
    },
    {
      "cell_type": "markdown",
      "source": [
        "# 2. Vendas por Categoria\n"
      ],
      "metadata": {
        "id": "2V_vcAPzWZmR"
      }
    },
    {
      "cell_type": "code",
      "source": [
        "def faturamento_por_categoria_mais_populares(loja, nome_loja):\n",
        "\n",
        "    quantidade_categoria = loja.groupby('Categoria do Produto').size().reset_index(name='Quantidade de Vendas')\n",
        "\n",
        "    quantidade_categoria = quantidade_categoria.sort_values(by='Quantidade de Vendas', ascending=False)\n",
        "\n",
        "    print(f'\\nCategorias mais populares - {nome_loja}:')\n",
        "    print(quantidade_categoria)\n",
        "\n",
        "    #print(type(quantidade_categoria))\n",
        "\n",
        "    return quantidade_categoria\n",
        "\n",
        "faturamento_loja1 = faturamento_por_categoria_mais_populares(loja, 'Loja 1')\n",
        "faturamento_loja2 = faturamento_por_categoria_mais_populares(loja2, 'Loja 2')\n",
        "faturamento_loja3 = faturamento_por_categoria_mais_populares(loja3, 'Loja 3')\n",
        "faturamento_loja4 = faturamento_por_categoria_mais_populares(loja4, 'Loja 4')\n",
        "\n"
      ],
      "metadata": {
        "id": "A34YupIuYhfF",
        "colab": {
          "base_uri": "https://localhost:8080/"
        },
        "outputId": "77f8ec8e-beff-41d2-ff81-f0eb84785927"
      },
      "execution_count": 76,
      "outputs": [
        {
          "output_type": "stream",
          "name": "stdout",
          "text": [
            "\n",
            "Categorias mais populares - Loja 1:\n",
            "    Categoria do Produto  Quantidade de Vendas\n",
            "6                 moveis                   465\n",
            "2            eletronicos                   448\n",
            "0             brinquedos                   324\n",
            "1       eletrodomesticos                   312\n",
            "3        esporte e lazer                   284\n",
            "4  instrumentos musicais                   182\n",
            "5                 livros                   173\n",
            "7  utilidades domesticas                   171\n",
            "\n",
            "Categorias mais populares - Loja 2:\n",
            "    Categoria do Produto  Quantidade de Vendas\n",
            "6                 moveis                   442\n",
            "2            eletronicos                   422\n",
            "0             brinquedos                   313\n",
            "1       eletrodomesticos                   305\n",
            "3        esporte e lazer                   275\n",
            "4  instrumentos musicais                   224\n",
            "5                 livros                   197\n",
            "7  utilidades domesticas                   181\n",
            "\n",
            "Categorias mais populares - Loja 3:\n",
            "    Categoria do Produto  Quantidade de Vendas\n",
            "6                 moveis                   499\n",
            "2            eletronicos                   451\n",
            "0             brinquedos                   315\n",
            "1       eletrodomesticos                   278\n",
            "3        esporte e lazer                   277\n",
            "5                 livros                   185\n",
            "4  instrumentos musicais                   177\n",
            "7  utilidades domesticas                   177\n",
            "\n",
            "Categorias mais populares - Loja 4:\n",
            "    Categoria do Produto  Quantidade de Vendas\n",
            "6                 moveis                   480\n",
            "2            eletronicos                   451\n",
            "0             brinquedos                   338\n",
            "3        esporte e lazer                   277\n",
            "1       eletrodomesticos                   254\n",
            "7  utilidades domesticas                   201\n",
            "5                 livros                   187\n",
            "4  instrumentos musicais                   170\n"
          ]
        }
      ]
    },
    {
      "cell_type": "markdown",
      "source": [
        "# 3. Média de Avaliação das Lojas"
      ],
      "metadata": {
        "id": "Rq6tU_xSY3jk"
      }
    },
    {
      "cell_type": "code",
      "source": [
        "def avaliacao_media(loja, nome_loja):\n",
        "\n",
        "  media_loja = loja['Avaliação da compra'].mean()\n",
        "  print(f'Média da {nome_loja}: {media_loja: .2f}')\n",
        "\n",
        "avaliacao_media(loja, 'Loja 1')\n",
        "avaliacao_media(loja2, 'Loja 2')\n",
        "avaliacao_media(loja3, 'Loja 3')\n",
        "avaliacao_media(loja4, 'Loja 4')\n",
        "\n",
        "\n"
      ],
      "metadata": {
        "id": "bh3jjjJwY5MU",
        "colab": {
          "base_uri": "https://localhost:8080/"
        },
        "outputId": "14465043-c98b-4199-d7e0-625e2d777b40"
      },
      "execution_count": 77,
      "outputs": [
        {
          "output_type": "stream",
          "name": "stdout",
          "text": [
            "Média da Loja 1:  3.98\n",
            "Média da Loja 2:  4.04\n",
            "Média da Loja 3:  4.05\n",
            "Média da Loja 4:  4.00\n"
          ]
        }
      ]
    },
    {
      "cell_type": "markdown",
      "source": [
        "# 4. Produtos Mais e Menos Vendidos"
      ],
      "metadata": {
        "id": "DmNp1KPBZCm-"
      }
    },
    {
      "cell_type": "code",
      "source": [
        "def produtos_mais_menos_vendidos(loja, nome_loja):\n",
        "\n",
        "  vendas_produto = loja.groupby('Produto')['Preço'].sum()\n",
        "\n",
        "  produto_mais_vendido = vendas_produto.sort_values(ascending=False).head(1)\n",
        "  produto_menos_vendido = vendas_produto.sort_values(ascending=False).tail(1)\n",
        "\n",
        "  print(f'\\n{nome_loja}')\n",
        "  print(f'Produto mais vendido: \\n{produto_mais_vendido}')\n",
        "  print(f'Produto menos vendido: \\n{produto_menos_vendido}')\n",
        "\n",
        "lojas = [(loja, 'Loja 1'),(loja2, 'Loja 2'), (loja3, 'Loja 3'), (loja4, 'Loja 4') ]\n",
        "\n",
        "for loja, nome in lojas:\n",
        "  produtos_mais_menos_vendidos(loja, nome)\n"
      ],
      "metadata": {
        "id": "qoyjqijQZHfF",
        "colab": {
          "base_uri": "https://localhost:8080/"
        },
        "outputId": "8b5a4794-a9c1-4c38-bb64-9a2e5abfcffb"
      },
      "execution_count": 78,
      "outputs": [
        {
          "output_type": "stream",
          "name": "stdout",
          "text": [
            "\n",
            "Loja 1\n",
            "Produto mais vendido: \n",
            "Produto\n",
            "TV Led UHD 4K    189534.28\n",
            "Name: Preço, dtype: float64\n",
            "Produto menos vendido: \n",
            "Produto\n",
            "Corda de pular    870.89\n",
            "Name: Preço, dtype: float64\n",
            "\n",
            "Loja 2\n",
            "Produto mais vendido: \n",
            "Produto\n",
            "Celular Plus X42    150967.83\n",
            "Name: Preço, dtype: float64\n",
            "Produto menos vendido: \n",
            "Produto\n",
            "Cubo mágico 8x8    858.22\n",
            "Name: Preço, dtype: float64\n",
            "\n",
            "Loja 3\n",
            "Produto mais vendido: \n",
            "Produto\n",
            "Geladeira    133185.99\n",
            "Name: Preço, dtype: float64\n",
            "Produto menos vendido: \n",
            "Produto\n",
            "Cubo mágico 8x8    853.81\n",
            "Name: Preço, dtype: float64\n",
            "\n",
            "Loja 4\n",
            "Produto mais vendido: \n",
            "Produto\n",
            "Celular Plus X42    128930.07\n",
            "Name: Preço, dtype: float64\n",
            "Produto menos vendido: \n",
            "Produto\n",
            "Corda de pular    939.74\n",
            "Name: Preço, dtype: float64\n"
          ]
        }
      ]
    },
    {
      "cell_type": "code",
      "source": [
        "import matplotlib.pyplot as plt\n",
        "\n",
        "def obter_dados_mais_menos(loja, nome_loja):\n",
        "    vendas_produto = loja.groupby('Produto')['Preço'].sum()\n",
        "    produto_mais_vendido = vendas_produto.sort_values(ascending=False).head(1)\n",
        "    produto_menos_vendido = vendas_produto.sort_values(ascending=False).tail(1)\n",
        "\n",
        "    # Retorna tuplas com nome_loja + nome_produto e valor total\n",
        "    return [\n",
        "        (f'{nome_loja} | {produto_mais_vendido.index[0]}', produto_mais_vendido.values[0]),\n",
        "        (f'{nome_loja} | {produto_menos_vendido.index[0]}', produto_menos_vendido.values[0])\n",
        "    ]\n",
        "\n",
        "dados = []\n",
        "for loja, nome in lojas:\n",
        "    dados.extend(obter_dados_mais_menos(loja, nome))\n",
        "\n",
        "# Separar para o gráfico\n",
        "labels = [item[0] for item in dados]\n",
        "valores = [item[1] for item in dados]\n",
        "cores = ['green', 'red'] * 4\n",
        "\n",
        "\n",
        "plt.figure(figsize=(8, 4))\n",
        "plt.bar(labels, valores, color=cores)\n",
        "plt.title('PRODUTOS MAIS (VERDE) E MENOS (VERMELHO) VENDIDOS POR LOJA', fontsize=12)\n",
        "plt.ylabel('Total de Vendas', fontsize=12)\n",
        "plt.xticks(rotation=14, ha='right')\n",
        "plt.tight_layout()\n",
        "plt.savefig('obter_dados_mais_menos.png', dpi=300, bbox_inches='tight')\n",
        "plt.show()\n"
      ],
      "metadata": {
        "colab": {
          "base_uri": "https://localhost:8080/",
          "height": 407
        },
        "id": "quqF7geEfbuW",
        "outputId": "6476728f-e2d2-4634-d963-1172889ed0d9"
      },
      "execution_count": 79,
      "outputs": [
        {
          "output_type": "display_data",
          "data": {
            "text/plain": [
              "<Figure size 800x400 with 1 Axes>"
            ],
            "image/png": "[encoded data removed]"
          },
          "metadata": {}
        }
      ]
    },
    {
      "cell_type": "markdown",
      "source": [
        "# 5. Frete Médio por Loja\n"
      ],
      "metadata": {
        "id": "Fl0cGi3bZKqU"
      }
    },
    {
      "cell_type": "code",
      "source": [
        "def media_loja_frete(loja, nome_loja):\n",
        "\n",
        "    media_frete = loja['Frete'].mean()\n",
        "    print(f'Média de Frete para {nome_loja}: {media_frete}')\n",
        "\n",
        "lojas = [(loja, 'Loja 1'), (loja2, 'Loja 2'), (loja3, 'Loja 3'), (loja4, 'Loja 4')]\n",
        "\n",
        "for loja, nome in lojas:\n",
        "    media_loja_frete(loja, nome)\n"
      ],
      "metadata": {
        "id": "S2JeaCykZNy9",
        "colab": {
          "base_uri": "https://localhost:8080/"
        },
        "outputId": "411cb22b-bd2d-418e-f2d0-a46115398861"
      },
      "execution_count": 80,
      "outputs": [
        {
          "output_type": "stream",
          "name": "stdout",
          "text": [
            "Média de Frete para Loja 1: 31.278997081841727\n",
            "Média de Frete para Loja 2: 33.62194065817927\n",
            "Média de Frete para Loja 3: 33.07446427411743\n",
            "Média de Frete para Loja 4: 31.278997081841727\n"
          ]
        }
      ]
    },
    {
      "cell_type": "code",
      "source": [
        "import matplotlib.pyplot as plt\n",
        "\n",
        "def grafico_media_avaliacao(lojas, nomes_lojas):\n",
        "    medias = [loja['Avaliação da compra'].mean() for loja in lojas]\n",
        "\n",
        "    plt.figure(figsize=(8, 4))\n",
        "    plt.plot(nomes_lojas, medias, marker='o', linestyle='-', color='purple', linewidth=1)\n",
        "    plt.title('Média da Avaliação de Compra por Loja', fontsize=14)\n",
        "    plt.xlabel('Lojas', fontsize=12)\n",
        "    plt.ylabel('Média da Avaliação', fontsize=10)\n",
        "    plt.grid(True)\n",
        "    plt.ylim(3.5, 4.5)\n",
        "    plt.savefig('media_avaliacao_compra.png', dpi=300, bbox_inches='tight')\n",
        "\n",
        "    plt.show()\n",
        "\n",
        "lojas = [loja, loja2, loja3, loja4]\n",
        "nomes = ['Loja 1', 'Loja 2', 'Loja 3', 'Loja 4']\n",
        "\n",
        "grafico_media_avaliacao(lojas, nomes)\n"
      ],
      "metadata": {
        "colab": {
          "base_uri": "https://localhost:8080/",
          "height": 416
        },
        "id": "MovLACFrhT8_",
        "outputId": "4d36acb3-5d40-4345-9eec-6bdadb654323"
      },
      "execution_count": 81,
      "outputs": [
        {
          "output_type": "display_data",
          "data": {
            "text/plain": [
              "<Figure size 800x400 with 1 Axes>"
            ],
            "image/png": "[encoded data removed]"
          },
          "metadata": {}
        }
      ]
    },
    {
      "cell_type": "code",
      "source": [
        "import matplotlib.pyplot as plt\n",
        "\n",
        "medias = {\n",
        "    'Loja 1': loja['Frete'].mean(),\n",
        "    'Loja 2': loja2['Frete'].mean(),\n",
        "    'Loja 3': loja3['Frete'].mean(),\n",
        "    'Loja 4': loja4['Frete'].mean(),\n",
        "}\n",
        "\n",
        "lojas = list(medias.keys())\n",
        "valores = list(medias.values())\n",
        "\n",
        "plt.figure(figsize=(8,4))\n",
        "plt.barh(lojas, valores, color=\"orange\")\n",
        "\n",
        "plt.title('Média de Frete por Loja (Horizontal)')\n",
        "plt.xlabel('Média do Frete')\n",
        "plt.ylabel('Lojas')\n",
        "plt.grid(axis='x', linestyle='-', alpha=0.6)\n",
        "\n",
        "plt.tight_layout()\n",
        "plt.savefig('media_frete.png', dpi=300, bbox_inches='tight')\n",
        "\n",
        "plt.show()\n"
      ],
      "metadata": {
        "colab": {
          "base_uri": "https://localhost:8080/",
          "height": 407
        },
        "id": "ByCF_a8sgMdh",
        "outputId": "43f8ca8e-4478-4eed-fe06-aef5f0023c4c"
      },
      "execution_count": 82,
      "outputs": [
        {
          "output_type": "display_data",
          "data": {
            "text/plain": [
              "<Figure size 800x400 with 1 Axes>"
            ],
            "image/png": "[encoded data removed]"
          },
          "metadata": {}
        }
      ]
    },
    {
      "cell_type": "markdown",
      "source": [
        "# 6. Análise Comparativa e Relatório Final\n"
      ],
      "metadata": {
        "id": "YrmZhil00NN1"
      }
    },
    {
      "cell_type": "markdown",
      "source": [
        "A **Loja 1** apresenta o maior faturamento entre todas as unidades analisadas, destacando-se também pelo baixo custo médio de frete e pela boa variedade de vendas em diferentes categorias de produtos. No entanto, sua avaliação média de clientes (3,98) é um pouco inferior em relação às demais.\n",
        "\n",
        "A **Loja 2** mostra bom desempenho em termos de faturamento, além de se destacar como a unidade com maior sucesso no produto líder (Celular). Sua avaliação média é superior à da Loja 1, mas o custo de frete é mais elevado, o que pode impactar a competitividade.\n",
        "\n",
        "A **Loja 3** apresenta a melhor avaliação dos clientes, o que evidencia uma maior satisfação do público, além de liderar as vendas no segmento de móveis. Contudo, possui um faturamento mais baixo e um custo de frete mais alto em comparação com as demais, reduzindo seu atrativo financeiro.\n",
        "\n",
        "Por fim, a **Loja 4** registra o menor faturamento total entre todas, mas compensa parcialmente esse resultado com um custo de frete competitivo e um bom desempenho na categoria de brinquedos. Ainda assim, seu potencial de retorno financeiro imediato é mais limitado."
      ],
      "metadata": {
        "id": "SKZ8EiSaAs-k"
      }
    },
    {
      "cell_type": "markdown",
      "source": [
        "# 7. Conclusão e Recomendação\n"
      ],
      "metadata": {
        "id": "4JLKIm7QAI2c"
      }
    },
    {
      "cell_type": "markdown",
      "source": [
        "Após a análise dos fatores principais — faturamento, categorias mais populares, satisfação dos clientes e custo logístico — conclui-se que a **Loja 1** é a melhor escolha para o senhor João iniciar seu empreendimento.\n",
        "\n",
        "Os principais motivos para essa recomendação são:\n",
        "\n",
        "*   A **Loja 1** é a que apresenta o maior faturamento total, evidenciando maior potencial de lucro.\n",
        "*   Possui baixo custo médio de frete, o que aumenta sua competitividade no mercado.\n",
        "*   Apresenta bom desempenho de vendas em todas as principais categorias, garantindo diversidade de consumo.\n",
        "\n",
        "Embora a Loja 3 tenha a melhor avaliação dos clientes, seu faturamento mais baixo e o frete mais caro reduzem sua atratividade em termos de retorno financeiro imediato.\n",
        "\n",
        "Portanto, recomenda-se que o senhor João opte pela **Loja 1**, concentrando esforços em estratégias de melhoria no atendimento ao cliente para elevar sua avaliação e consolidar ainda mais sua posição de destaque no mercado."
      ],
      "metadata": {
        "id": "_0aeVEw1-zwp"
      }
    },
    {
      "cell_type": "code",
      "source": [],
      "metadata": {
        "id": "46hAvQnViUaC"
      },
      "execution_count": null,
      "outputs": []
    }
  ]
}